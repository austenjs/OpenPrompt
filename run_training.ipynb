{
 "cells": [
  {
   "cell_type": "code",
   "execution_count": null,
   "metadata": {},
   "outputs": [],
   "source": [
    "# Initialize roberta-base\n",
    "from openprompt.plms import get_model_class\n",
    "model_class = get_model_class(plm_type = \"roberta-base\")\n",
    "model_path = 'roberta-base'\n",
    "config = model_class.config.from_pretrained(model_path)\n",
    "tokenizer = model_class.tokenizer.from_pretrained(model_path)\n",
    "model = model_class.model.from_pretrained(model_path)"
   ]
  },
  {
   "cell_type": "code",
   "execution_count": null,
   "metadata": {},
   "outputs": [],
   "source": [
    "# Initialize prompt template\n",
    "from openprompt.prompts import ManualTemplate\n",
    "promptTemplate = ManualTemplate(\n",
    "    text = [\"<text_a>\", \"It\", \"was\", \"<mask>\"],\n",
    "    tokenizer = tokenizer,\n",
    ")"
   ]
  },
  {
   "cell_type": "code",
   "execution_count": null,
   "metadata": {},
   "outputs": [],
   "source": [
    "# Initialize verbalizer\n",
    "from openprompt.prompts import ManualVerbalizer\n",
    "classes = [\"negative\", \"positive\"]\n",
    "\n",
    "promptVerbalizer = ManualVerbalizer(\n",
    "    classes = classes,\n",
    "    label_words = {\n",
    "        \"negative\": [\"bad\"],\n",
    "        \"positive\": [\"great\"],\n",
    "    },\n",
    "    tokenizer = tokenizer,\n",
    ")"
   ]
  },
  {
   "cell_type": "code",
   "execution_count": null,
   "metadata": {},
   "outputs": [],
   "source": [
    "# Create prompt model\n",
    "from openprompt import PromptForClassification\n",
    "promptModel = PromptForClassification(\n",
    "    template = promptTemplate,\n",
    "    model = model,\n",
    "    verbalizer = promptVerbalizer,\n",
    ")"
   ]
  },
  {
   "cell_type": "code",
   "execution_count": null,
   "metadata": {},
   "outputs": [],
   "source": [
    "# Data Processor\n",
    "import os\n",
    "import pandas as pd\n",
    "\n",
    "from openprompt.data_utils import InputExample\n",
    "from openprompt.data_utils.data_processor import DataProcessor\n",
    "\n",
    "class SST2Processor(DataProcessor):\n",
    "    \n",
    "    def __init__(self):\n",
    "        super().__init__()\n",
    "        self.labels = [\"negative\", \"positive\"]\n",
    "\n",
    "    def get_examples(self, data_dir, split):\n",
    "        examples = []\n",
    "        path = os.path.join(data_dir, \"{}.tsv\".format(split))\n",
    "        df = pd.read_csv(path, sep='\\\\t', header = 0)\n",
    "        sentences = df['sentence']\n",
    "        labels = df['label']\n",
    "        for idx in range(len(sentences)):\n",
    "            sentence, label = sentences[idx], labels[idx]\n",
    "            example = InputExample(\n",
    "                guid = idx, text_a = sentence, label = int(label))\n",
    "            examples.append(example)\n",
    "                \n",
    "        return examples"
   ]
  },
  {
   "cell_type": "code",
   "execution_count": null,
   "metadata": {},
   "outputs": [],
   "source": [
    "# Load dataset\n",
    "path_to_train = './custom_data'\n",
    "dataset = SST2Processor().get_examples(path_to_train, 'train')"
   ]
  },
  {
   "cell_type": "code",
   "execution_count": null,
   "metadata": {},
   "outputs": [],
   "source": [
    "# Create Data Loader\n",
    "from openprompt import PromptDataLoader\n",
    "data_loader = PromptDataLoader(\n",
    "    dataset = dataset,\n",
    "    tokenizer = tokenizer,\n",
    "    template = promptTemplate,\n",
    ")"
   ]
  },
  {
   "cell_type": "code",
   "execution_count": null,
   "metadata": {},
   "outputs": [],
   "source": [
    "from openprompt.trainer import ClassificationRunner\n",
    "from openprompt.config import get_default_config\n",
    "trainer = ClassificationRunner(model, train_dataloader = data_loader, config = get_default_config())\n",
    "num_of_epochs = 10\n",
    "trainer.train_epoch(num_of_epochs)"
   ]
  },
  {
   "cell_type": "code",
   "execution_count": null,
   "metadata": {},
   "outputs": [],
   "source": []
  }
 ],
 "metadata": {
  "interpreter": {
   "hash": "9a4ff1af5d6128ae1af0c267d9f4569bdb1b0b71b6acfc19a5b0c06f4de71adb"
  },
  "kernelspec": {
   "display_name": "Python 3.9.5 64-bit ('prompt-learning': conda)",
   "name": "python3"
  },
  "language_info": {
   "codemirror_mode": {
    "name": "ipython",
    "version": 3
   },
   "file_extension": ".py",
   "mimetype": "text/x-python",
   "name": "python",
   "nbconvert_exporter": "python",
   "pygments_lexer": "ipython3",
   "version": "3.9.5"
  },
  "orig_nbformat": 4
 },
 "nbformat": 4,
 "nbformat_minor": 2
}
